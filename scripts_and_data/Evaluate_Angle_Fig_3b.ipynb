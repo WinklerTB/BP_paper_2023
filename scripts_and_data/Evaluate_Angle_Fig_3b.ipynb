{
 "cells": [
  {
   "cell_type": "code",
   "execution_count": 1,
   "id": "63a24a25",
   "metadata": {},
   "outputs": [
    {
     "name": "stdout",
     "output_type": "stream",
     "text": [
      "0.62.0\n"
     ]
    }
   ],
   "source": [
    "import ubermag\n",
    "print(ubermag.__version__)\n",
    "import matplotlib as plt\n",
    "#from tensorflow import keras\n",
    "import numpy as np\n",
    "\n",
    "import numpy as np\n",
    "import matplotlib.pyplot as plt\n",
    "import os\n",
    "import time\n",
    "import csv\n",
    "\n",
    "import tqdm\n",
    "import discretisedfield as df\n",
    "import micromagneticmodel as mm\n",
    "import matplotlib.pyplot as plt\n",
    "\n",
    "import numpy as np\n",
    "import numpy as np\n",
    "import matplotlib.pyplot as plt\n",
    "import os\n",
    "import time\n",
    "import tqdm\n",
    "import itertools\n",
    "import warnings\n",
    "\n",
    "import numpy as np\n",
    "\n",
    "import discretisedfield as df\n",
    "import discretisedfield.util as dfu\n",
    "import discretisedfield.tools as dft\n",
    "#from magnum import *"
   ]
  },
  {
   "cell_type": "code",
   "execution_count": 2,
   "id": "51a688a5",
   "metadata": {},
   "outputs": [],
   "source": [
    "ntlist =[10, 20, 30, 40,50]\n",
    "a = 0.4679e-9\n",
    "dlist = [50*a/x for x in ntlist]\n",
    "\n",
    "maxangles=[]\n",
    "maxanglesarg=[]\n",
    "for nt in ntlist:\n",
    "    path = \"BP/MM_rectangular/BP_relaxed_nt_\"+str(nt)+\".omf\"\n",
    "    field = df.Field.fromfile(path)\n",
    "    angles = dft.max_neigbouring_cell_angle(field, units=\"deg\")\n",
    "    numpyangles = angles.array\n",
    "    #print(angles)\n",
    "    maxa = np.amax(numpyangles)\n",
    "    maxarg = np.argmax(numpyangles)\n",
    "    maxanglesarg.append(maxarg)\n",
    "    maxangles.append(maxa)\n",
    "if False:\n",
    "    plt.plot(dlist, maxangles)\n",
    "    plt.show()"
   ]
  },
  {
   "cell_type": "code",
   "execution_count": 3,
   "id": "3afdfe5c",
   "metadata": {},
   "outputs": [],
   "source": [
    "ntlistV =[10, 20, 30,40,50]\n",
    "a = 0.4679e-9\n",
    "dlistV = [50*a/x for x in ntlistV]\n",
    "\n",
    "maxanglesV=[]\n",
    "maxanglesargV=[]\n",
    "for nt in ntlistV:\n",
    "    path = \"BV/MM_rectangular/BV_relaxed_nt_\"+str(nt)+\".omf\"\n",
    "    field = df.Field.fromfile(path)\n",
    "    anglesV = dft.max_neigbouring_cell_angle(field, units=\"deg\")\n",
    "    numpyanglesV = anglesV.array\n",
    "    maxaV = np.amax(numpyanglesV)\n",
    "    maxargV = np.argmax(numpyanglesV)\n",
    "\n",
    "    maxanglesargV.append(maxargV)\n",
    "    maxanglesV.append(maxaV)\n",
    "if False:\n",
    "    plt.plot(dlistV, maxanglesV, \"o-\")\n",
    "    plt.show()"
   ]
  },
  {
   "cell_type": "code",
   "execution_count": 4,
   "id": "92753d3e",
   "metadata": {},
   "outputs": [],
   "source": [
    "ntlistHB =[ 50]\n",
    "a = 0.4679e-9\n",
    "\n",
    "HBmaxangles=[]\n",
    "HBmaxanglesarg=[]\n",
    "for nt in ntlistHB:\n",
    "    path = \"BP/HB_rectangular/BP_relaxed_nt_\"+str(nt)+\".omf\"\n",
    "    field = df.Field.fromfile(path)\n",
    "    HBangles = dft.max_neigbouring_cell_angle(field, units=\"deg\")\n",
    "    HBnumpyangles = HBangles.array\n",
    "    \n",
    "    HBmaxa = np.amax(HBnumpyangles)\n",
    "    HBmaxarg = np.argmax(HBnumpyangles)\n",
    "    \n",
    "    if False:\n",
    "        print(angles)\n",
    "        print(HBmaxa)\n",
    "        plt.hist(np.ravel(HBnumpyangles))\n",
    "        plt.yscale(\"log\")\n",
    "        plt.ylabel(\"#\")\n",
    "        plt.xlabel(\"angle [degree]\")\n",
    "        plt.title(\"histogram of angles in HB configuration\")\n",
    "        plt.show()\n",
    "        plt.imshow(HBnumpyangles[nt*2,:,:,0], vmin=0, vmax=180)\n",
    "        plt.colorbar()\n",
    "        plt.show()\n",
    "        plt.imshow(HBnumpyangles[:,:,0,0], vmin=0, vmax=180)\n",
    "        plt.colorbar()\n",
    "        plt.show()\n"
   ]
  },
  {
   "cell_type": "code",
   "execution_count": 5,
   "id": "cbfcde5b",
   "metadata": {},
   "outputs": [],
   "source": [
    "ntlistHB =[ 50]\n",
    "a = 0.4679e-9\n",
    "\n",
    "VHBmaxangles=[]\n",
    "VHBmaxanglesarg=[]\n",
    "for nt in ntlistHB:\n",
    "    path = \"BV/HB_rectangular/BV_relaxed_nt_\"+str(nt)+\".omf\"\n",
    "    field = df.Field.fromfile(path)\n",
    "    VHBangles = dft.max_neigbouring_cell_angle(field, units=\"deg\")\n",
    "    VHBnumpyangles = VHBangles.array\n",
    "    #print(angles)\n",
    "    VHBmaxa = np.amax(VHBnumpyangles)\n",
    "    VHBmaxarg = np.argmax(VHBnumpyangles)\n",
    "\n",
    "    if False:\n",
    "        plt.hist(np.ravel(VHBnumpyangles))\n",
    "        plt.yscale(\"log\")\n",
    "        plt.ylabel(\"#\")\n",
    "        plt.xlabel(\"angle [degree]\")\n",
    "        plt.title(\"histogram of angles in HB configuration\")\n",
    "        plt.show()\n",
    "        plt.imshow(VHBnumpyangles[nt*2,:,:,0], vmin=0, vmax=180)\n",
    "        plt.colorbar()\n",
    "        plt.show()\n",
    "        plt.imshow(VHBnumpyangles[:,:,0,0], vmin=0, vmax=180)\n",
    "        plt.colorbar()\n",
    "        plt.show()"
   ]
  },
  {
   "cell_type": "code",
   "execution_count": 6,
   "id": "5e3828ee",
   "metadata": {},
   "outputs": [],
   "source": [
    "from scipy.optimize import curve_fit\n",
    "def invFit(x,a,b):\n",
    "    y = a/x+b\n",
    "    return y\n",
    "def invFit2(x,a,b):\n",
    "    y = a/np.sqrt(x)+b\n",
    "    return y"
   ]
  },
  {
   "cell_type": "code",
   "execution_count": 7,
   "id": "613c1c2d",
   "metadata": {},
   "outputs": [
    {
     "name": "stdout",
     "output_type": "stream",
     "text": [
      "[10.38695343 76.08332042]\n",
      "[[ 0.67373735 -0.7198019 ]\n",
      " [-0.7198019   1.07942486]]\n",
      "[16.96399119 -0.22517691]\n",
      "[[ 1.29692685 -1.3856    ]\n",
      " [-1.3856      2.07786562]]\n"
     ]
    },
    {
     "data": {
      "image/png": "[encoded data removed]",
      "text/plain": [
       "<Figure size 360x360 with 1 Axes>"
      ]
     },
     "metadata": {},
     "output_type": "display_data"
    }
   ],
   "source": [
    "# plot max. angle plot, Fig. 3 b) \n",
    "dlistinv = [1/d for d in dlist]\n",
    "Vdlistinv = [1/d for d in dlistV]\n",
    "\n",
    "ainv = 1/a\n",
    "cut=2\n",
    "cut2=0\n",
    "\n",
    "cut=0\n",
    "cut2=0\n",
    "xdata = [d*1e-9 for d in dlistinv[cut:]] \n",
    "ydata = maxangles[cut:]\n",
    "xdataV = [d*1e-9 for d in Vdlistinv[cut2:]] \n",
    "ydataV = maxanglesV[cut2:]\n",
    "\n",
    "parameters, covariance = curve_fit(invFit, xdata, ydata)\n",
    "parametersV, covarianceV = curve_fit(invFit, xdataV, ydataV)\n",
    "print(parameters)\n",
    "print(covariance)\n",
    "print(parametersV)\n",
    "print(covarianceV)\n",
    "plt.figure(figsize=(5,5))\n",
    "plt.plot(dlistinv[cut:],invFit(xdata, parameters[0], parameters[1]), label=\"BP Fit\")\n",
    "\n",
    "plt.plot(dlistinv, maxangles,\"o\", label=\"BP MM\")\n",
    "plt.plot(ainv, HBmaxa,\"X\", color=\"red\", markersize=10, label=\"BP HB\")\n",
    "plt.plot(Vdlistinv[cut2:],invFit(xdataV, parametersV[0], parametersV[1]), label=\"BV Fit\")\n",
    "\n",
    "plt.plot(Vdlistinv, maxanglesV,\"o\", label=\"BV MM\")\n",
    "plt.plot(ainv, VHBmaxa,\"X\",color=\"blue\",markersize=10, label=\"BV HB\")\n",
    "plt.ylim(0,110)\n",
    "plt.ylabel(r\"Maximum angle $\\beta$ [°]\")\n",
    "plt.legend()\n",
    "plt.xlabel(r\"$d^{-1}$ [1/m]\")\n",
    "plt.ylim(0, 180)\n",
    "plt.grid()\n",
    "plt.title(r\"maximum angle $\\beta$ [$\\degree$]\")\n",
    "plt.savefig(\"Figures/Fig_3b_angle.svg\", dpi=400, bbox_inches=\"tight\")\n",
    "plt.show()"
   ]
  },
  {
   "cell_type": "code",
   "execution_count": null,
   "id": "e195ba3a",
   "metadata": {},
   "outputs": [],
   "source": []
  }
 ],
 "metadata": {
  "kernelspec": {
   "display_name": "Python [conda env:ubermag]",
   "language": "python",
   "name": "conda-env-ubermag-py"
  },
  "language_info": {
   "codemirror_mode": {
    "name": "ipython",
    "version": 3
   },
   "file_extension": ".py",
   "mimetype": "text/x-python",
   "name": "python",
   "nbconvert_exporter": "python",
   "pygments_lexer": "ipython3",
   "version": "3.8.13"
  }
 },
 "nbformat": 4,
 "nbformat_minor": 5
}
