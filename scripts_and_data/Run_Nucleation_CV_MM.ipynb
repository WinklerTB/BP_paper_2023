{
 "cells": [
  {
   "cell_type": "code",
   "execution_count": 1,
   "id": "59b2aae9",
   "metadata": {},
   "outputs": [
    {
     "name": "stderr",
     "output_type": "stream",
     "text": [
      "[   INFO] - Imported FFTW wisdom from file\n",
      "[   INFO] - ----------------------------------------------------------------------\n",
      "[   INFO] - MicMag 2.0rc0\n",
      "[   INFO] - Copyright (C) 2012 - 2023 by the MicroMagnum team and the MicMag2 contributors.\n",
      "[   INFO] - This program comes with ABSOLUTELY NO WARRANTY.\n",
      "[   INFO] - This is free software, and you are welcome to redistribute it under\n",
      "[   INFO] - certain conditions; see the file COPYING in the distribution package.\n",
      "[   INFO] - ----------------------------------------------------------------------\n",
      "[   INFO] - FFTW using 1 threads from now on\n",
      "[   INFO] - CUDA GPU support: yes\n"
     ]
    }
   ],
   "source": [
    "### SKRIPT BY THOMAS BRIAN WINKLER\n",
    "### PART OF THE ARTICLE \"ENEGETICS AND DYNAMICS OF A STABLE BLOCH POINT\" by Winkler et al. (2023)\n",
    "from magnum import *\n",
    "from math import *\n",
    "import numpy as np\n",
    "import random\n",
    "import os.path\n",
    "import os\n",
    "import time\n",
    "import sys\n",
    "import re\n",
    "import matplotlib.pyplot as plt\n",
    "%matplotlib inline"
   ]
  },
  {
   "cell_type": "code",
   "execution_count": 3,
   "id": "architectural-light",
   "metadata": {},
   "outputs": [],
   "source": [
    "def calc(nt, system, sample, write_nucleation):\n",
    "    nar = 100\n",
    "    naz1 = 30\n",
    "    naz2 = 20\n",
    "    a=0.4679*1e-09  # lattice constant of FeGe in m\n",
    "    random.seed(0)\n",
    "    t=(naz1+naz2)*a  #total thickness in [m]\n",
    "    r=nar*a       #radius in [m]\n",
    "    dia=2*r       #diameter in [m]  \n",
    "    d = a*(naz1+naz2)/nt  #MM mesh size in [m] \n",
    "    nmmz = nt             # number of MM cells in z-direction\n",
    "    nmm =int(round(dia/d)) # number of MM cells in x- and y-direction\n",
    "\n",
    "    \n",
    "    mu0 = 4*np.pi*1e-7   #mu0\n",
    "    alpha = 0.28         #damping constant\n",
    "    A =  8.78*1e-12         #Exchange constant in [J/m]\n",
    "    Ms=0.384*1e6\n",
    "    mu=Ms*a**3            #magnetic moment (for HB)\n",
    "    J=2*A*a\n",
    "    DISK = Material({\n",
    "    'id': 'DISK',\n",
    "    'Ms': Ms,\n",
    "    'alpha': alpha,\n",
    "    'A': A,\n",
    "    'axis1': (0,0,1),\n",
    "    'axis2': (0,1,0),\n",
    "    'k_uniaxial': 0.0,\n",
    "    'k_cubic': 0.0,\n",
    "    'l':a,\n",
    "    'mu':mu,\n",
    "    'J':J})\n",
    "    relax=0.5 #degree per nanosecond relax condition\n",
    "\n",
    "    mesh = RectangularMesh((nmm, nmm, nmmz), (d, d, d))\n",
    "    if sample == \"rectangular\":\n",
    "        disk = Cuboid((0,0,0), (nmm*d,nmm*d,nmmz*d))\n",
    "    if sample == \"cylindrical\":\n",
    "        disk = Cylinder((nmm*d/2, nmm*d/2,0.0),(nmm*d/2, nmm*d/2,nmmz*d), nmm*d/2)\n",
    "    world = World(mesh, Body(\"disk\", DISK, disk))\n",
    "    solver = create_solver(world, module_list =[StrayField, ExchangeField],\n",
    "                           finescale = False,  log=False, do_precess = True) # finescale sets either MM (False) or HB mode (True).\n",
    "   \n",
    "    folder = system+\"/MM_\"+sample+\"/\"\n",
    "    folderwrite = system+\"/MM_\"+sample+\"/nucleation_\"+str(nt)+\"/\"\n",
    "\n",
    "    if not os.path.isdir(folder): os.mkdir(folder)\n",
    "    if not os.path.isdir(folderwrite): os.mkdir(folderwrite)\n",
    "\n",
    "    solver.state.M = vortex.magnetizationFunction(nmm*d/2, nmm*d/2, 1,-1, core_radius=0.8e-9)\n",
    "    #solver.state.Ms.fill(Ms)\n",
    "    \n",
    "    solver.state.M.normalize(1) # normalize spins to 1 for writing\n",
    "    filenameinit = system+\"_FMinit_nt_\"+str(nt)+\".omf\"\n",
    "    writeOMF(folder+filenameinit, solver.state.M)\n",
    "    \n",
    "    solver.state.M.normalize(1)\n",
    "    numpymag = solver.state.M.to_numpy()\n",
    "    plt.figure(figsize=(3,3))\n",
    "    plt.imshow(numpymag[:,:,0,2])\n",
    "    plt.colorbar()\n",
    "    plt.title(\"z-magnetization\")\n",
    "    plt.show()\n",
    "    solver.state.M.normalize(Ms) # renormalize to M_s for energy\n",
    "    eTFM, eSFM,eAFM, = solver.state.E_tot, solver.state.E_stray, solver.state.E_exch\n",
    "    if write_nucleation:\n",
    "        solver.addStepHandler(OOMMFStorage(folderwrite, \"M\"), condition.EveryNthSecond(2e-11))\n",
    "    solver.state.M.normalize(Ms)\n",
    "    solver.relax(relax)\n",
    "\n",
    "    solver.state.M.normalize(1)\n",
    "    filename_relaxed = system+\"_relaxed_nt_\"+str(nt)+\".omf\"\n",
    "    writeOMF(folder+filename_relaxed, solver.state.M)    \n",
    "    \n",
    "    \n",
    "    numpymag = solver.state.M.to_numpy()\n",
    "    plt.figure(figsize=(3,3))\n",
    "    plt.imshow(numpymag[:,:,0,2])\n",
    "    plt.colorbar()\n",
    "    plt.title(\"z-magnetization\")\n",
    "    plt.show()\n",
    "    plt.figure(figsize=(3,3))\n",
    "    plt.imshow(numpymag[:,:,0,0])\n",
    "    plt.colorbar()\n",
    "    plt.title(\"x-magnetization\")\n",
    "    plt.show()\n",
    "    plt.figure(figsize=(3,3))\n",
    "    plt.imshow(numpymag[:,:,-1,2])\n",
    "    plt.colorbar()\n",
    "    plt.title(\"z-magnetization\")\n",
    "    plt.show()\n",
    "\n",
    "    \n"
   ]
  },
  {
   "cell_type": "code",
   "execution_count": null,
   "id": "pursuant-condition",
   "metadata": {},
   "outputs": [
    {
     "name": "stderr",
     "output_type": "stream",
     "text": [
      "[   INFO] - LandauLifshitzGilbert module configuration:\n",
      "[   INFO] -  - H_tot = H_stray + H_exch\n",
      "[   INFO] -  - E_tot = E_stray + E_exch\n",
      "[   INFO] -  - dM/dt = LLGE(M, H_tot)\n",
      "[   INFO] - Performance hint: The number of cells nx, ny, nz in each direction should satisfy nx >= ny >= nz.\n",
      "[   INFO] - Setting up demagnetization tensor field\n",
      "[   INFO] -   Magn. size      : 40x40x10 cells\n",
      "[   INFO] -   FFT size        : 80x80x20\n",
      "[   INFO] -   PBC dimensions  : none  (1 repetitions)\n",
      "[   INFO] -   Cache file      : /uni-mainz.de/homes/twinkler/.cache/magnum/Demag--40-40-10--80-80-20--2339-2339-2339.dat\n",
      "[   INFO] -   0%\n",
      "[   INFO] -   50%\n",
      "[   INFO] -   100%\n",
      "[   INFO] - Initialized modules: LandauLifshitzGilbert, StrayField, ExchangeField\n",
      "[   INFO] - Initializing material parameters\n",
      "[   INFO] -   body id='disk', volume=79.0%, params: 'Ms=384000', 'alpha=0.28', 'A=8.78e-12'\n",
      "[   INFO] - Runge Kutta evolver: method is rkf45, step size controller is MMM(eps_abs=0.001, eps_rel=0.0001).\n",
      "[   INFO] - Assigning new magnetic state M\n"
     ]
    },
    {
     "data": {
      "image/png": "[encoded data removed]",
      "text/plain": [
       "<Figure size 216x216 with 2 Axes>"
      ]
     },
     "metadata": {
      "needs_background": "light"
     },
     "output_type": "display_data"
    },
    {
     "data": {
      "image/png": "[encoded data removed]",
      "text/plain": [
       "<Figure size 216x216 with 2 Axes>"
      ]
     },
     "metadata": {
      "needs_background": "light"
     },
     "output_type": "display_data"
    },
    {
     "data": {
      "image/png": "[encoded data removed]",
      "text/plain": [
       "<Figure size 216x216 with 2 Axes>"
      ]
     },
     "metadata": {
      "needs_background": "light"
     },
     "output_type": "display_data"
    },
    {
     "data": {
      "image/png": "[encoded data removed]",
      "text/plain": [
       "<Figure size 216x216 with 2 Axes>"
      ]
     },
     "metadata": {
      "needs_background": "light"
     },
     "output_type": "display_data"
    },
    {
     "name": "stderr",
     "output_type": "stream",
     "text": [
      "[   INFO] - LandauLifshitzGilbert module configuration:\n",
      "[   INFO] -  - H_tot = H_stray + H_exch\n",
      "[   INFO] -  - E_tot = E_stray + E_exch\n",
      "[   INFO] -  - dM/dt = LLGE(M, H_tot)\n",
      "[   INFO] - Performance hint: The number of cells nx, ny, nz in each direction should satisfy nx >= ny >= nz.\n",
      "[   INFO] - Setting up demagnetization tensor field\n",
      "[   INFO] -   Magn. size      : 40x40x10 cells\n",
      "[   INFO] -   FFT size        : 80x80x20\n",
      "[   INFO] -   PBC dimensions  : none  (1 repetitions)\n",
      "[   INFO] -   Cache file      : /uni-mainz.de/homes/twinkler/.cache/magnum/Demag--40-40-10--80-80-20--2339-2339-2339.dat\n",
      "[   INFO] -   0%\n",
      "[   INFO] -   50%\n",
      "[   INFO] -   100%\n",
      "[   INFO] - Initialized modules: LandauLifshitzGilbert, StrayField, ExchangeField\n",
      "[   INFO] - Initializing material parameters\n",
      "[   INFO] -   body id='disk', volume=100.0%, params: 'Ms=384000', 'alpha=0.28', 'A=8.78e-12'\n",
      "[   INFO] - Runge Kutta evolver: method is rkf45, step size controller is MMM(eps_abs=0.001, eps_rel=0.0001).\n",
      "[   INFO] - Assigning new magnetic state M\n"
     ]
    },
    {
     "data": {
      "image/png": "[encoded data removed]",
      "text/plain": [
       "<Figure size 216x216 with 2 Axes>"
      ]
     },
     "metadata": {
      "needs_background": "light"
     },
     "output_type": "display_data"
    }
   ],
   "source": [
    "system= \"CV\" #chossing configurations Bloch point (BP)\n",
    "\n",
    "if os.path.isfile(system):\n",
    "    os.mkdir(system)\n",
    "write_nucleation = False\n",
    "for nt in[10]: # thickness in units of FeGe lattice constant, in study [10, 20, 30, 40, 50]. 50 equals the atomistic lattice constant.\n",
    "    for sample in [\"cylindrical\", \"rectangular\"]:\n",
    "        calc(nt, system, sample, write_nucleation)\n"
   ]
  },
  {
   "cell_type": "code",
   "execution_count": null,
   "id": "respected-spare",
   "metadata": {},
   "outputs": [],
   "source": []
  }
 ],
 "metadata": {
  "kernelspec": {
   "display_name": "Python 3",
   "language": "python",
   "name": "python3"
  },
  "language_info": {
   "codemirror_mode": {
    "name": "ipython",
    "version": 3
   },
   "file_extension": ".py",
   "mimetype": "text/x-python",
   "name": "python",
   "nbconvert_exporter": "python",
   "pygments_lexer": "ipython3",
   "version": "3.9.2"
  }
 },
 "nbformat": 4,
 "nbformat_minor": 5
}
