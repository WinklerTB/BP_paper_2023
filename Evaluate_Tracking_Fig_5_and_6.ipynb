{
 "cells": [
  {
   "cell_type": "code",
   "execution_count": 1,
   "id": "f3db27a1",
   "metadata": {},
   "outputs": [
    {
     "name": "stdout",
     "output_type": "stream",
     "text": [
      "3.8.13\n"
     ]
    }
   ],
   "source": [
    "#from magnum import *\n",
    "from math import *\n",
    "import numpy as np\n",
    "import random\n",
    "import os.path\n",
    "import os\n",
    "import time\n",
    "import matplotlib.pyplot as plt\n",
    "import matplotlib\n",
    "from platform import python_version\n",
    "import discretisedfield as df\n",
    "import discretisedfield.tools as dft\n",
    "import glob\n",
    "import natsort\n",
    "import tqdm\n",
    "print(python_version())\n",
    "%matplotlib inline"
   ]
  },
  {
   "cell_type": "code",
   "execution_count": 2,
   "id": "a2b70d1a",
   "metadata": {},
   "outputs": [],
   "source": [
    "#only weight the topolgocial density around r/4 of peak vortex magnetization \n",
    "def get_weight_matrix(mag, mode=\"cutoff\"):\n",
    "    \n",
    "    magz = mag[:,:,0,2]\n",
    "    magz = np.abs(magz)\n",
    "\n",
    "    index = np.argmax(magz)\n",
    "    mulind = np.argpartition(np.ravel(magz), -4)[-4:]\n",
    "\n",
    "    coo = np.unravel_index(index, magz.shape)\n",
    "    mulcoox, mulcooy = np.unravel_index(mulind, magz.shape)\n",
    "\n",
    "    weights = np.array([magz[mulcoox[0], mulcooy[0]], magz[mulcoox[1], mulcooy[1]], magz[mulcoox[2], mulcooy[2]], magz[mulcoox[3], mulcooy[3]]])\n",
    "\n",
    "    finalx = np.ma.average(mulcoox, weights=weights)\n",
    "    finaly = np.ma.average(mulcooy, weights=weights)\n",
    "    \n",
    "    weightmatrix = np.ones(magz.shape)\n",
    "    distmatrix = np.ones(magz.shape)\n",
    "    \n",
    "    for i in range(magz.shape[0]):\n",
    "        for j in range(magz.shape[1]):\n",
    "            if i ==finalx and j == finaly:\n",
    "                distmatrix[i,j] = 0.0\n",
    "            else:\n",
    "                distmatrix[i,j]= np.sqrt((i-finalx)**2+(j-finaly)**2)                \n",
    "\n",
    "    cutoff=round(25/200*mag.shape[0])\n",
    "\n",
    "    for i in range(magz.shape[0]):\n",
    "        for j in range(magz.shape[1]):\n",
    "            if distmatrix[i,j]>=cutoff:\n",
    "                    weightmatrix[i,j] =0.0\n",
    "            else:\n",
    "                    weightmatrix[i,j] = 1.0            \n",
    "\n",
    "\n",
    "    return weightmatrix.reshape(magz.shape[0], magz.shape[1], 1, 1)"
   ]
  },
  {
   "cell_type": "code",
   "execution_count": 3,
   "id": "dd0b6dd2",
   "metadata": {},
   "outputs": [],
   "source": [
    "def get_trajectory_vortex(filelist, z_slice= 0, plot=False, prints=False):\n",
    "    num_files = len(filelist)\n",
    "    #print(num_files, \" files are to analysed\")\n",
    "    traj = np.zeros((num_files,2))\n",
    "    count = 0\n",
    "    for file in tqdm.tqdm(filelist):\n",
    "        \n",
    "        field_read = df.Field.fromfile(file) \n",
    "        #print(field_read.mesh.n)\n",
    "        subregion = df.Region(p1=(0.0, 0.0, (z_slice)*field_read.mesh.dz), p2=(field_read.mesh.n[0]*field_read.mesh.dx, field_read.mesh.n[1]*field_read.mesh.dy, (z_slice+1)*field_read.mesh.dz))\n",
    "        m = field_read[subregion]\n",
    "        if plot:\n",
    "            m.orientation.plane(\"z\").mpl()\n",
    "            plt.show()\n",
    "        #coordinatefield = mag.coordinate_field\n",
    "        q = dft.topological_charge_density(m.orientation.plane(\"z\"), method=\"berg-luescher\")\n",
    "\n",
    "        x = df.Field(m.mesh, dim=1, value=lambda p: p[0])  # p[1] -> y, p[2] -> z\n",
    "        y = df.Field(m.mesh, dim=1, value=lambda p: p[1])  # p[1] -> y, p[2] -> z\n",
    "        \n",
    "        #weight matrix to cut-off outer areas and spin canting at the edges of the vortex\n",
    "        wm = get_weight_matrix(m.array, mode=\"4w-cutoff\")\n",
    "       \n",
    "\n",
    "        rx = df.integral(x.plane(\"z\") *  q * wm* df.dx*df.dy)\n",
    "        ry = df.integral(y.plane(\"z\") *  q * wm* df.dx*df.dy) \n",
    "\n",
    "        rn =  df.integral(q* wm*df.dx*df.dy)\n",
    "\n",
    "        rx = rx/rn*1e9\n",
    "        ry = ry/rn*1e9    \n",
    "        \n",
    "        traj[count, 0] = rx\n",
    "        traj[count,1] = ry\n",
    "        count+=1\n",
    "        #to plot the evaluated region:\n",
    "        if plot:\n",
    "            qwm = q*wm\n",
    "            qwm.mpl()\n",
    "            plt.scatter(rx, ry)\n",
    "            plt.show()\n",
    "        if prints:\n",
    "            print(\"rx, ry:\", rx, ry)\n",
    "    return traj\n"
   ]
  },
  {
   "cell_type": "code",
   "execution_count": 203,
   "id": "d1d584b0",
   "metadata": {},
   "outputs": [
    {
     "name": "stderr",
     "output_type": "stream",
     "text": [
      "100%|█████████████████████████████████████████| 220/220 [05:13<00:00,  1.42s/it]\n",
      "100%|█████████████████████████████████████████| 153/153 [03:35<00:00,  1.41s/it]\n",
      "100%|█████████████████████████████████████████| 153/153 [04:01<00:00,  1.58s/it]\n",
      "100%|███████████████████████████████████████████| 43/43 [01:01<00:00,  1.42s/it]\n",
      "100%|███████████████████████████████████████████| 43/43 [01:09<00:00,  1.61s/it]\n",
      "100%|███████████████████████████████████████████| 43/43 [01:16<00:00,  1.78s/it]\n",
      "100%|███████████████████████████████████████████| 43/43 [01:09<00:00,  1.61s/it]\n"
     ]
    }
   ],
   "source": [
    "##Track MM CV first \n",
    "#in the paper we used to HB model to track the CV. However, to make the repository more lightweight we track here only coarse \n",
    "# discretizations. \n",
    "# For the CV we also only track the top layer here as we assume the vortex to be uniform along the z-axis.\n",
    "# However, you are welcome to simulate all necessary data with this repository.\n",
    "nt= 20\n",
    "filelist = glob.glob(\"CV/MM_cylindrical/IP_dynamics_\"+str(nt)+\"/*.omf\")\n",
    "filelist = natsort.natsorted(filelist)\n",
    "#check the bottom slice of the vortex. You have to loop over all slices here if you want to repeat the original study\n",
    "CV_traj = get_trajectory_vortex(filelist, z_slice=0)\n",
    "\n",
    "filelist = glob.glob(\"BV/MM_cylindrical/IP_dynamics_\"+str(nt)+\"/*.omf\")\n",
    "filelist = natsort.natsorted(filelist)\n",
    "BV_traj = get_trajectory_vortex(filelist, z_slice=0)\n",
    "BV_traj_top = get_trajectory_vortex(filelist, z_slice=nt-1)\n",
    "\n",
    "filelist = glob.glob(\"BP/MM_cylindrical/IP_dynamics_\"+str(nt)+\"/*.omf\")\n",
    "filelist = natsort.natsorted(filelist)\n",
    "BPV_traj_bottom = get_trajectory_vortex(filelist, z_slice=0)\n",
    "BPV_traj_top = get_trajectory_vortex(filelist, z_slice=nt-1)\n",
    "BP_traj_bottom = get_trajectory_vortex(filelist, z_slice=int(round(nt*0.6))-1)\n",
    "BP_traj_top = get_trajectory_vortex(filelist, z_slice=int(round(nt*0.6)))\n",
    "BP_traj = (BP_traj_bottom+BP_traj_top)/2  #BP position is mean of the two neighbored vorex positions with opposite polarity - at layer interface"
   ]
  },
  {
   "cell_type": "code",
   "execution_count": 206,
   "id": "a22900ac",
   "metadata": {},
   "outputs": [
    {
     "data": {
      "image/png": "[encoded data removed]",
      "text/plain": [
       "<Figure size 288x288 with 1 Axes>"
      ]
     },
     "metadata": {
      "needs_background": "light"
     },
     "output_type": "display_data"
    }
   ],
   "source": [
    "## Similar to Figure 6 a/b in the main paper \n",
    "## \n",
    "plt.figure(figsize=(4,4))\n",
    "plt.plot(BV_traj[:,0], BV_traj[:,1], \"o-\", label = \"BV\")\n",
    "plt.plot(CV_traj[:,0], CV_traj[:,1], \"o-\", label = \"CV\")\n",
    "plt.plot(BP_traj[:,0], BP_traj[:,1], \"o-\", label = \"BP\")\n",
    "plt.plot(BPV_traj_bottom[:,0], BPV_traj_bottom[:,1], \"o-\", label = \"BP bottom\")\n",
    "plt.plot(BPV_traj_top[:,0], BPV_traj_top[:,1], \"o-\", label = \"BP top\")\n",
    "#plt.plot(BV_traj[:,0], BV_traj[:,1], \"x-\", label = \"BV_top\")\n",
    "plt.xlabel(\"x (nm)\")\n",
    "plt.ylabel(\"y (nm)\")\n",
    "plt.legend()\n",
    "plt.savefig(\"Figures/Fig_6b_track.svg\", dpi=300, bbox_inches=\"tight\")\n",
    "plt.show()"
   ]
  },
  {
   "cell_type": "code",
   "execution_count": 4,
   "id": "f2566fa6",
   "metadata": {},
   "outputs": [],
   "source": [
    "def get_cum_dist(traj):\n",
    "    cum_dist = np.zeros(traj.shape[0], dtype = float)\n",
    "    cum_dist[0] = 0.0\n",
    "    for i in range(1, traj.shape[0]):\n",
    "        traveled_dist =  np.sqrt((traj[i,0]-traj[i-1,0])**2+(traj[i,1]-traj[i-1,1])**2)\n",
    "        cum_dist[i] = cum_dist[i-1]+traveled_dist\n",
    "    return cum_dist"
   ]
  },
  {
   "cell_type": "code",
   "execution_count": 216,
   "id": "0ccc49ae",
   "metadata": {},
   "outputs": [],
   "source": [
    "##cumulative distance, similar to Figure 6c\n",
    "cum_dist_BP = get_cum_dist(BP_traj)\n",
    "cum_dist_BPV_top = get_cum_dist(BPV_traj_top)\n",
    "cum_dist_BPV_bottom = get_cum_dist(BPV_traj_bottom)\n",
    "cum_dist_BV = get_cum_dist(BV_traj)\n",
    "cum_dist_CV = get_cum_dist(CV_traj)\n"
   ]
  },
  {
   "cell_type": "code",
   "execution_count": 225,
   "id": "d0a927dd",
   "metadata": {},
   "outputs": [
    {
     "data": {
      "image/png": "[encoded data removed]",
      "text/plain": [
       "<Figure size 288x288 with 1 Axes>"
      ]
     },
     "metadata": {
      "needs_background": "light"
     },
     "output_type": "display_data"
    }
   ],
   "source": [
    "## Similar to Figure 6 c in the main paper \n",
    "## The data in the paper is run with a finer discretization\n",
    "plt.figure(figsize=(4,4))\n",
    "plt.title(\"cumulative distance\")\n",
    "plt.plot(cum_dist_BP, \"-\",label = \"BP\")\n",
    "plt.plot(cum_dist_BV, \"-\", label = \"BV\")\n",
    "plt.plot(cum_dist_CV, \"-\", label = \"CV\")\n",
    "\n",
    "plt.plot(cum_dist_BPV_top, \"-\", label = \"BPV bottom\")\n",
    "plt.plot(cum_dist_BPV_bottom, \"-\", label = \"BPV top\")\n",
    "\n",
    "plt.ylabel(\"time [20 ps]\")\n",
    "plt.ylabel(\"cum_dist [nm]\")\n",
    "plt.legend()\n",
    "plt.savefig(\"Figures/Fig_6c_cumulative_distance.svg\", dpi=400, bbox_inches=\"tight\")\n",
    "plt.show()"
   ]
  },
  {
   "cell_type": "code",
   "execution_count": 193,
   "id": "866102a5",
   "metadata": {},
   "outputs": [
    {
     "name": "stdout",
     "output_type": "stream",
     "text": [
      "47  files are to analysed\n"
     ]
    },
    {
     "name": "stderr",
     "output_type": "stream",
     "text": [
      "100%|███████████████████████████████████████████| 47/47 [00:20<00:00,  2.27it/s]\n"
     ]
    },
    {
     "name": "stdout",
     "output_type": "stream",
     "text": [
      "47  files are to analysed\n"
     ]
    },
    {
     "name": "stderr",
     "output_type": "stream",
     "text": [
      "100%|███████████████████████████████████████████| 47/47 [00:16<00:00,  2.78it/s]\n"
     ]
    },
    {
     "name": "stdout",
     "output_type": "stream",
     "text": [
      "43  files are to analysed\n"
     ]
    },
    {
     "name": "stderr",
     "output_type": "stream",
     "text": [
      "100%|███████████████████████████████████████████| 43/43 [01:16<00:00,  1.77s/it]\n"
     ]
    },
    {
     "name": "stdout",
     "output_type": "stream",
     "text": [
      "43  files are to analysed\n"
     ]
    },
    {
     "name": "stderr",
     "output_type": "stream",
     "text": [
      "100%|███████████████████████████████████████████| 43/43 [01:08<00:00,  1.60s/it]\n"
     ]
    },
    {
     "name": "stdout",
     "output_type": "stream",
     "text": [
      "40  files are to analysed\n"
     ]
    },
    {
     "name": "stderr",
     "output_type": "stream",
     "text": [
      "100%|███████████████████████████████████████████| 40/40 [02:42<00:00,  4.06s/it]\n"
     ]
    },
    {
     "name": "stdout",
     "output_type": "stream",
     "text": [
      "40  files are to analysed\n"
     ]
    },
    {
     "name": "stderr",
     "output_type": "stream",
     "text": [
      "100%|███████████████████████████████████████████| 40/40 [02:11<00:00,  3.29s/it]\n"
     ]
    },
    {
     "name": "stdout",
     "output_type": "stream",
     "text": [
      "38  files are to analysed\n"
     ]
    },
    {
     "name": "stderr",
     "output_type": "stream",
     "text": [
      "100%|███████████████████████████████████████████| 38/38 [07:20<00:00, 11.59s/it]\n"
     ]
    },
    {
     "name": "stdout",
     "output_type": "stream",
     "text": [
      "38  files are to analysed\n"
     ]
    },
    {
     "name": "stderr",
     "output_type": "stream",
     "text": [
      "100%|███████████████████████████████████████████| 38/38 [05:57<00:00,  9.40s/it]\n"
     ]
    },
    {
     "name": "stdout",
     "output_type": "stream",
     "text": [
      "38  files are to analysed\n"
     ]
    },
    {
     "name": "stderr",
     "output_type": "stream",
     "text": [
      "100%|███████████████████████████████████████████| 38/38 [07:21<00:00, 11.63s/it]\n"
     ]
    },
    {
     "name": "stdout",
     "output_type": "stream",
     "text": [
      "38  files are to analysed\n"
     ]
    },
    {
     "name": "stderr",
     "output_type": "stream",
     "text": [
      "100%|███████████████████████████████████████████| 38/38 [05:55<00:00,  9.36s/it]\n"
     ]
    }
   ],
   "source": [
    "# compare discretizations\n",
    "#\n",
    "#if False:\n",
    "nt = 10\n",
    "filelist_10 = glob.glob(\"BP/MM_cylindrical/IP_dynamics_10/*.omf\")\n",
    "filelist_10 = natsort.natsorted(filelist_10)\n",
    "BP_traj_bottom_10 = get_trajectory_vortex(filelist_10, z_slice=int(round(nt*0.6))-1)\n",
    "BP_traj_top_10 = get_trajectory_vortex(filelist_10, z_slice=int(round(nt*0.6)))\n",
    "BP_traj_10 = (BP_traj_bottom_10+BP_traj_top_10)/2  #BP position is mean of the two neighbored vorex positions with opposite polarity - at layer interface\n",
    "\n",
    "nt = 20\n",
    "filelist_20 = glob.glob(\"BP/MM_cylindrical/IP_dynamics_20/*.omf\")\n",
    "filelist_20 = natsort.natsorted(filelist_20)\n",
    "BP_traj_bottom_20 = get_trajectory_vortex(filelist_20, z_slice=int(round(nt*0.6))-1, plot=False, prints = False)\n",
    "BP_traj_top_20 = get_trajectory_vortex(filelist_20, z_slice=int(round(nt*0.6)), plot=False, prints=False)\n",
    "BP_traj_20 = (BP_traj_bottom_20+BP_traj_top_20)/2  #BP position is mean of the two neighbored vorex positions with opposite polarity - at layer interface\n",
    "\n",
    "nt=30\n",
    "filelist_30 = glob.glob(\"BP/MM_cylindrical/IP_dynamics_30/*.omf\")\n",
    "filelist_30 = natsort.natsorted(filelist_30)\n",
    "BP_traj_bottom_30 = get_trajectory_vortex(filelist_30, z_slice=int(round(nt*0.6))-1)\n",
    "BP_traj_top_30 = get_trajectory_vortex(filelist_30, z_slice=int(round(nt*0.6)))\n",
    "BP_traj_30 = (BP_traj_bottom_30+BP_traj_top_30)/2  #BP position is mean of the two neighbored vorex positions with opposite polarity - at layer interface\n",
    "\n",
    "nt=40\n",
    "filelist_40 = glob.glob(\"BP/MM_cylindrical/IP_dynamics_40/*.omf\")\n",
    "filelist_40 = natsort.natsorted(filelist_40)\n",
    "BP_traj_bottom_40 = get_trajectory_vortex(filelist_40, z_slice=int(round(nt*0.6))-1)\n",
    "BP_traj_top_40 = get_trajectory_vortex(filelist_40, z_slice=int(round(nt*0.6)))\n",
    "BP_traj_40 = (BP_traj_bottom_40+BP_traj_top_40)/2  #BP position is mean of the two neighbored vorex positions with opposite polarity - at layer interface\n",
    "\n",
    "nt=50\n",
    "filelist_50 = glob.glob(\"BP/MM_cylindrical/IP_dynamics_50/*.omf\")\n",
    "filelist_50 = natsort.natsorted(filelist_50)\n",
    "BP_traj_bottom_50 = get_trajectory_vortex(filelist_50, z_slice=int(round(nt*0.6))-1)\n",
    "BP_traj_top_50 = get_trajectory_vortex(filelist_50, z_slice=int(round(nt*0.6)))\n",
    "BP_traj_50 = (BP_traj_bottom_50+BP_traj_top_50)/2  #BP position is mean of the two neighbored vorex positions with opposite polarity - at layer interface\n",
    "\n"
   ]
  },
  {
   "cell_type": "code",
   "execution_count": 199,
   "id": "13efa727",
   "metadata": {},
   "outputs": [
    {
     "name": "stdout",
     "output_type": "stream",
     "text": [
      "39  files are to analysed\n"
     ]
    },
    {
     "name": "stderr",
     "output_type": "stream",
     "text": [
      "100%|███████████████████████████████████████████| 39/39 [04:36<00:00,  7.09s/it]\n"
     ]
    },
    {
     "name": "stdout",
     "output_type": "stream",
     "text": [
      "39  files are to analysed\n"
     ]
    },
    {
     "name": "stderr",
     "output_type": "stream",
     "text": [
      "100%|███████████████████████████████████████████| 39/39 [03:43<00:00,  5.74s/it]\n"
     ]
    }
   ],
   "source": [
    "nt=40\n",
    "filelist_40 = glob.glob(\"BP/MM_cylindrical/IP_dynamics_40/*.omf\")\n",
    "filelist_40 = natsort.natsorted(filelist_40)\n",
    "BP_traj_bottom_40 = get_trajectory_vortex(filelist_40, z_slice=int(round(nt*0.6))-1)\n",
    "BP_traj_top_40 = get_trajectory_vortex(filelist_40, z_slice=int(round(nt*0.6)))\n",
    "BP_traj_40 = (BP_traj_bottom_40+BP_traj_top_40)/2  #BP position is mean of the two neighbored vorex positions with opposite polarity - at layer interface\n"
   ]
  },
  {
   "cell_type": "code",
   "execution_count": 7,
   "id": "ae8f19da",
   "metadata": {},
   "outputs": [
    {
     "name": "stderr",
     "output_type": "stream",
     "text": [
      "100%|███████████████████████████████████████████| 38/38 [07:14<00:00, 11.44s/it]\n",
      "100%|███████████████████████████████████████████| 38/38 [05:52<00:00,  9.27s/it]\n"
     ]
    }
   ],
   "source": [
    "#HB has to be simulated\n",
    "nt=50\n",
    "filelist_HB = glob.glob(\"BP/HB_cylindrical/IP_dynamics_50/*.omf\")\n",
    "filelist_HB = natsort.natsorted(filelist_HB)\n",
    "BP_traj_bottom_HB = get_trajectory_vortex(filelist_HB, z_slice=int(round(nt*0.6))-1)\n",
    "BP_traj_top_HB = get_trajectory_vortex(filelist_HB, z_slice=int(round(nt*0.6)))\n",
    "BP_traj_HB = (BP_traj_bottom_HB+BP_traj_top_HB)/2  #BP position is mean of the two neighbored vorex positions with opposite polarity - at layer interface"
   ]
  },
  {
   "cell_type": "code",
   "execution_count": 9,
   "id": "2b1eddba",
   "metadata": {},
   "outputs": [
    {
     "data": {
      "image/png": "[encoded data removed]",
      "text/plain": [
       "<Figure size 288x576 with 1 Axes>"
      ]
     },
     "metadata": {
      "needs_background": "light"
     },
     "output_type": "display_data"
    }
   ],
   "source": [
    "## Similar to Figure 5 in the main paper \n",
    "## \n",
    "\n",
    "plt.figure(figsize=(4,8))\n",
    "plt.title(\"BP movement\")\n",
    "#number represents the number of cells in z-direction\n",
    "plt.plot(BP_traj_10[:,0], BP_traj_10[:,1], \"o--\", label = \"MM BP 10\")\n",
    "plt.plot(BP_traj_20[:,0], BP_traj_20[:,1], \"o--\", label = \"MM BP 20\")\n",
    "plt.plot(BP_traj_30[:,0], BP_traj_30[:,1], \"o--\", label = \"MM BP 30\")\n",
    "plt.plot(BP_traj_40[:,0], BP_traj_40[:,1], \"o--\", label = \"MM BP 40\")\n",
    "plt.plot(BP_traj_50[:,0], BP_traj_50[:,1], \"o--\", label = \"MM BP 50\")\n",
    "plt.plot(BP_traj_HB[:,0], BP_traj_HB[:,1], \"o-.\", label = \"HB BP\")\n",
    "plt.xlabel(\"x (nm)\")\n",
    "plt.ylabel(\"y (nm)\")\n",
    "plt.savefig(\"Figures/Fig_5_track_BP.svg\", dpi=400, bbox_inches=\"tight\")\n",
    "plt.legend()\n",
    "plt.show()"
   ]
  },
  {
   "cell_type": "code",
   "execution_count": null,
   "id": "c71fc14c",
   "metadata": {},
   "outputs": [],
   "source": []
  }
 ],
 "metadata": {
  "kernelspec": {
   "display_name": "Python [conda env:ubermag]",
   "language": "python",
   "name": "conda-env-ubermag-py"
  },
  "language_info": {
   "codemirror_mode": {
    "name": "ipython",
    "version": 3
   },
   "file_extension": ".py",
   "mimetype": "text/x-python",
   "name": "python",
   "nbconvert_exporter": "python",
   "pygments_lexer": "ipython3",
   "version": "3.8.13"
  }
 },
 "nbformat": 4,
 "nbformat_minor": 5
}
